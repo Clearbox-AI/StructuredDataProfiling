{
 "cells": [
  {
   "cell_type": "code",
   "execution_count": null,
   "metadata": {
    "pycharm": {
     "is_executing": true
    }
   },
   "outputs": [],
   "source": [
    "from structured_data_profiling.profiler import DatasetProfiler"
   ]
  },
  {
   "cell_type": "code",
   "execution_count": null,
   "metadata": {
    "pycharm": {
     "name": "#%%\n"
    }
   },
   "outputs": [],
   "source": [
    "# Step 1 instantiate the profiler\n",
    "# Required inputs: CSV_PATH pointing to the dataset and eventual presence of a target column\n",
    "\n",
    "data_profiler = DatasetProfiler('../tests/resources/datasets/adult/uci_adult.csv',target= 'income')"
   ]
  },
  {
   "cell_type": "code",
   "execution_count": null,
   "metadata": {
    "pycharm": {
     "name": "#%%\n"
    }
   },
   "outputs": [],
   "source": [
    "# Run the profiling\n",
    "data_profiler.profile()"
   ]
  },
  {
   "cell_type": "code",
   "execution_count": null,
   "metadata": {
    "pycharm": {
     "name": "#%%\n"
    }
   },
   "outputs": [],
   "source": [
    "# Show the warnings identified during the profiling process\n",
    "\n",
    "data_profiler.warnings()"
   ]
  },
  {
   "cell_type": "code",
   "execution_count": null,
   "metadata": {
    "pycharm": {
     "name": "#%%\n"
    }
   },
   "outputs": [],
   "source": [
    "# Convert the findings collected during the profiling into data expectations.\n",
    "# The argument docs tells great_expectations to create an HTML containing data docs\n",
    "\n",
    "# To generate expectations you need to have great_expectations initialised in your working directory. \n",
    "\n",
    "#This can be done by running: $great_expectations init\n",
    "\n",
    "data_profiler.generate_expectations(docs=True)"
   ]
  },
  {
   "cell_type": "markdown",
   "metadata": {
    "pycharm": {
     "name": "#%% md\n"
    }
   },
   "source": [
    "\n",
    "If you generated expectations using the docs=True flag you will be able to access the data docs under the ```great_expectations/uncommitted/data_docs``` folder.\n",
    "\n",
    "Below you can see a two doc examples, one for a numerical column\n",
    "<img alt=\"data docs example 1\" src=\"./num_columns.png\"/>\n",
    "And one for a categorical one\n",
    "<img alt=\"data docs example 2\" src=\"./cat_columns.png\"/>\n",
    "\n",
    "As you can see from the examples expectations can be also used to characterise the dataset using conditional distributions. In this particular example the profiler determined that young individuals are less likely to be married or that widowed invividuals are more likely to be female."
   ]
  },
  {
   "cell_type": "code",
   "execution_count": null,
   "metadata": {},
   "outputs": [],
   "source": []
  },
  {
   "cell_type": "code",
   "execution_count": null,
   "metadata": {},
   "outputs": [],
   "source": []
  }
 ],
 "metadata": {
  "kernelspec": {
   "display_name": "Python 3.9.7 ('.venv': poetry)",
   "language": "python",
   "name": "python3"
  },
  "language_info": {
   "codemirror_mode": {
    "name": "ipython",
    "version": 3
   },
   "file_extension": ".py",
   "mimetype": "text/x-python",
   "name": "python",
   "nbconvert_exporter": "python",
   "pygments_lexer": "ipython3",
   "version": "3.9.7"
  },
  "vscode": {
   "interpreter": {
    "hash": "a774b990307da4cf7c8f6eabc276f22d65b0ba80375d65702c6118e64c0b8d93"
   }
  }
 },
 "nbformat": 4,
 "nbformat_minor": 1
}
